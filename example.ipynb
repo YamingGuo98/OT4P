{
 "cells": [
  {
   "cell_type": "markdown",
   "id": "1ea49960",
   "metadata": {},
   "source": [
    "# Simple demonstration of OT4P\n",
    "We provide a minimal example demonstrating the use of OT4P. Given $X$ and $Y = PXP^{\\top}$, where $P$ is a permutation matrix, the objective is to find the true permutation matrix $P$, which is defined as:\n",
    "\n",
    "$$\n",
    "\\min_P \\|PXP^{\\top} - Y\\|^2.\n",
    "$$\n",
    "\n",
    "We use OT4P to solve the above problem from three different perspectives: deterministic optimization, \n",
    "stochastic optimization, and constrained optimization."
   ]
  },
  {
   "cell_type": "code",
   "execution_count": null,
   "id": "1d08441b",
   "metadata": {},
   "outputs": [],
   "source": [
    "## Install the library\n",
    "# !pip install torch\n",
    "# !pip install git+https://github.com/ivan-chai/torch-linear-assignment.git\n",
    "\n",
    "## Define the problem\n",
    "import torch\n",
    "from src.ot4p import OT4P\n",
    "\n",
    "size = 100\n",
    "X = torch.randn(size, size)\n",
    "trueP = torch.eye(size)[torch.randperm(size)]\n",
    "Y = trueP @ X @ trueP.T\n",
    "\n",
    "# loss function\n",
    "def loss_fn(Y, X, P):\n",
    "    return torch.mean(torch.pow(P @ X @ P.transpose(-2, -1) - Y, 2))"
   ]
  },
  {
   "cell_type": "markdown",
   "id": "4d54ba0f",
   "metadata": {},
   "source": [
    "## Deterministic optimization\n",
    "As described in Section~3.2, we address this problem from the perspective of deterministic optimization."
   ]
  },
  {
   "cell_type": "code",
   "execution_count": null,
   "id": "4f558440",
   "metadata": {},
   "outputs": [],
   "source": [
    "# Initialize the weight parameter, model, and optimizer\n",
    "weightP = torch.nn.Parameter(torch.randn(size, size), requires_grad=True)\n",
    "model = OT4P(size)\n",
    "optimizer = torch.optim.AdamW([weightP], lr=1e-1)\n",
    "\n",
    "# Perform 500 iterations\n",
    "print(\"Starting Deterministic Optimization...\")\n",
    "for i in range(500):\n",
    "    optimizer.zero_grad()\n",
    "    perm_matrix = model(weightP, tau=0.5)\n",
    "    loss_train = loss_fn(Y, X, perm_matrix)\n",
    "    loss_train.backward()\n",
    "    optimizer.step()\n",
    "    \n",
    "    # Compute validation loss\n",
    "    with torch.no_grad():\n",
    "        perm_matrix_val = model(weightP, tau=0)\n",
    "        loss_val = loss_fn(Y, X, perm_matrix_val)\n",
    "        \n",
    "    # Print training and validation losses\n",
    "    print(f\"Iteration {i+1}: Training Loss = {loss_train.item():.6f}, Validation Loss = {loss_val.item():.6f}\")\n",
    "\n",
    "    # Update base of the model\n",
    "    model.update_base(weightP)\n",
    "    \n",
    "    # Check convergence\n",
    "    if loss_val < 1e-5:\n",
    "        print(f\"Deterministic optimization converges at iteration {i+1}\")\n",
    "        break"
   ]
  },
  {
   "cell_type": "markdown",
   "id": "f0b0a0fc",
   "metadata": {},
   "source": [
    "## Stochastic optimization\n",
    "\n",
    "As described in Section 3.3, we address this problem from the perspective of stochastic optimization."
   ]
  },
  {
   "cell_type": "code",
   "execution_count": null,
   "id": "1ff23ec9",
   "metadata": {},
   "outputs": [],
   "source": [
    "# Initialize the weight parameter, model, and optimizer\n",
    "weightP = torch.nn.Parameter(torch.randn(size, size), requires_grad=True)\n",
    "log_weightP_var = torch.nn.Parameter(torch.randn(size, size), requires_grad=True)\n",
    "model = OT4P(size)\n",
    "optimizer = torch.optim.AdamW([weightP], lr=1e-1)\n",
    "\n",
    "# Perform 500 iterations\n",
    "print(\"Starting Stochastic Optimization...\")\n",
    "for i in range(500):\n",
    "    optimizer.zero_grad()\n",
    "    \n",
    "    # Re-parameterization trick\n",
    "    mean = weightP.unsqueeze(0).expand(5, -1, -1)\n",
    "    std = torch.exp(log_weightP_var / 2).unsqueeze(0).expand(5, -1, -1)\n",
    "    sample = mean + std * torch.randn_like(mean) * 0.01\n",
    "    \n",
    "    perm_matrix = model(sample, tau=0.5)\n",
    "    loss_train = loss_fn(Y, X, perm_matrix)\n",
    "    loss_train.backward()\n",
    "    optimizer.step()\n",
    "    \n",
    "    # Compute validation loss\n",
    "    with torch.no_grad():\n",
    "        perm_matrix_val = model(weightP, tau=0)\n",
    "        loss_val = loss_fn(Y, X, perm_matrix_val)\n",
    "        \n",
    "    # Print training and validation losses\n",
    "    print(f\"Iteration {i+1}: Training Loss = {loss_train.item():.6f}, Validation Loss = {loss_val.item():.6f}\")\n",
    "\n",
    "    # Update base of the model\n",
    "    model.update_base(weightP)\n",
    "    \n",
    "    # Check convergence\n",
    "    if loss_val < 1e-5:\n",
    "        print(f\"Stochastic optimization converges at iteration {i+1}\")\n",
    "        break"
   ]
  },
  {
   "cell_type": "markdown",
   "id": "5683ef93",
   "metadata": {},
   "source": [
    "## Constrained optimization\n",
    "When some matching relationships are already determined, we can incorporate this constraint into the model to reduce the complexity of the problem."
   ]
  },
  {
   "cell_type": "code",
   "execution_count": null,
   "id": "a0fce94b",
   "metadata": {},
   "outputs": [],
   "source": [
    "# Initialize the constraint matrix\n",
    "constraint_matrix = torch.ones((size, size))\n",
    "num_selected = int(size * 0.05)\n",
    "# Select a subset of rows\n",
    "selected_rows = torch.randperm(size)[:num_selected]\n",
    "# Set the constraints\n",
    "for row in selected_rows:\n",
    "    col_index = trueP[row].nonzero().item()\n",
    "    constraint_matrix[row, :] = 0\n",
    "    constraint_matrix[:, col_index] = 0\n",
    "    constraint_matrix[row, col_index] = 1\n",
    "\n",
    "# Initialize the weight parameter, model with constraint, and optimizer\n",
    "weightP = torch.nn.Parameter(torch.randn(size, size), requires_grad=True)\n",
    "model = OT4P(size)\n",
    "model.constraint = constraint_matrix.unsqueeze(0)\n",
    "optimizer = torch.optim.AdamW([weightP], lr=1e-1)\n",
    "\n",
    "# Perform 500 iterations\n",
    "print(\"Starting Constrained Optimization...\")\n",
    "for i in range(500):\n",
    "    optimizer.zero_grad()\n",
    "    perm_matrix = model(weightP, tau=0.5)\n",
    "    loss_train = loss_fn(Y, X, perm_matrix)\n",
    "    loss_train.backward()\n",
    "    optimizer.step()\n",
    "    \n",
    "    # Compute validation loss\n",
    "    with torch.no_grad():\n",
    "        perm_matrix_val = model(weightP, tau=0)\n",
    "        loss_val = loss_fn(Y, X, perm_matrix_val)\n",
    "        \n",
    "    # Print training and validation losses\n",
    "    print(f\"Iteration {i+1}: Training Loss = {loss_train.item():.6f}, Validation Loss = {loss_val.item():.6f}\")\n",
    "\n",
    "    # Update base of the model\n",
    "    model.update_base(weightP)\n",
    "    \n",
    "    # Check convergence\n",
    "    if loss_val < 1e-5:\n",
    "        print(f\"Constrained optimization converges at iteration {i+1}\")\n",
    "        break"
   ]
  }
 ],
 "metadata": {
  "kernelspec": {
   "display_name": "pytorch",
   "language": "python",
   "name": "python3"
  },
  "language_info": {
   "codemirror_mode": {
    "name": "ipython",
    "version": 3
   },
   "file_extension": ".py",
   "mimetype": "text/x-python",
   "name": "python",
   "nbconvert_exporter": "python",
   "pygments_lexer": "ipython3",
   "version": "3.8.19"
  }
 },
 "nbformat": 4,
 "nbformat_minor": 5
}
